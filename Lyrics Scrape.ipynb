{
  "cells": [
    {
      "cell_type": "markdown",
      "id": "95952cac",
      "metadata": {
        "id": "95952cac"
      },
      "source": [
        "# ADS 509 Module 1: APIs and Web Scraping\n",
        "\n",
        "This notebook has two parts. In the first part, you will scrape lyrics from AZLyrics.com. In the second part, you'll run code that verifies the completeness of your data pull.\n",
        "\n",
        "For this assignment you have chosen two musical artists who have at least 20 songs with lyrics on AZLyrics.com. We start with pulling some information and analyzing them.\n"
      ]
    },
    {
      "cell_type": "markdown",
      "id": "069b7ae8",
      "metadata": {
        "id": "069b7ae8"
      },
      "source": [
        "## General Assignment Instructions\n",
        "\n",
        "These instructions are included in every assignment, to remind you of the coding standards for the class. Feel free to delete this cell after reading it.\n",
        "\n",
        "One sign of mature code is conforming to a style guide. We recommend the [Google Python Style Guide](https://google.github.io/styleguide/pyguide.html). If you use a different style guide, please include a cell with a link.\n",
        "\n",
        "Your code should be relatively easy-to-read, sensibly commented, and clean. Writing code is a messy process, so please be sure to edit your final submission. Remove any cells that are not needed or parts of cells that contain unnecessary code. Remove inessential `import` statements and make sure that all such statements are moved into the designated cell.\n",
        "\n",
        "Make use of non-code cells for written commentary. These cells should be grammatical and clearly written. In some of these cells you will have questions to answer. The questions will be marked by a \"Q:\" and will have a corresponding \"A:\" spot for you. *Make sure to answer every question marked with a `Q:` for full credit.*\n"
      ]
    },
    {
      "cell_type": "markdown",
      "id": "91c8969e",
      "metadata": {
        "id": "91c8969e"
      },
      "source": [
        "# Importing Libraries"
      ]
    },
    {
      "cell_type": "code",
      "execution_count": 124,
      "id": "185076b0",
      "metadata": {
        "id": "185076b0"
      },
      "outputs": [],
      "source": [
        "import os\n",
        "import datetime\n",
        "import re\n",
        "import shutil\n",
        "\n",
        "# for the lyrics scrape section\n",
        "import requests\n",
        "import time\n",
        "from bs4 import BeautifulSoup\n",
        "from collections import defaultdict, Counter\n",
        "import random\n"
      ]
    },
    {
      "cell_type": "markdown",
      "id": "45c13af3",
      "metadata": {
        "id": "45c13af3"
      },
      "source": [
        "---\n",
        "\n",
        "# Lyrics Scrape\n",
        "\n",
        "This section asks you to pull data by scraping www.AZLyrics.com. In the notebooks where you do that work you are asked to store the data in specific ways."
      ]
    },
    {
      "cell_type": "code",
      "execution_count": 125,
      "id": "5bd7df77",
      "metadata": {
        "id": "5bd7df77"
      },
      "outputs": [],
      "source": [
        "artists = {\n",
        "    \"coldplay\": [\n",
        "        \"https://www.azlyrics.com/lyrics/coldplay/yellow.html\",\n",
        "        \"https://www.azlyrics.com/lyrics/coldplay/fixyou.html\",\n",
        "        \"https://www.azlyrics.com/lyrics/coldplay/clocks.html\",\n",
        "        \"https://www.azlyrics.com/lyrics/coldplay/thescientist.html\",\n",
        "        \"https://www.azlyrics.com/lyrics/coldplay/viva lavida.html\",\n",
        "        \"https://www.azlyrics.com/lyrics/coldplay/shiver.html\",\n",
        "        \"https://www.azlyrics.com/lyrics/coldplay/sparks.html\",\n",
        "        \"https://www.azlyrics.com/lyrics/coldplay/trouble.html\",\n",
        "        \"https://www.azlyrics.com/lyrics/coldplay/inmyplace.html\",\n",
        "        \"https://www.azlyrics.com/lyrics/coldplay/loversinJapan.html\",\n",
        "        \"https://www.azlyrics.com/lyrics/coldplay/42.html\",\n",
        "        \"https://www.azlyrics.com/lyrics/coldplay/astronaut.html\",\n",
        "        \"https://www.azlyrics.com/lyrics/coldplay/charliebrown.html\",\n",
        "        \"https://www.azlyrics.com/lyrics/coldplay/magic.html\",\n",
        "        \"https://www.azlyrics.com/lyrics/coldplay/skyfullofstars.html\",\n",
        "        \"https://www.azlyrics.com/lyrics/coldplay/adventureofalifetime.html\",\n",
        "        \"https://www.azlyrics.com/lyrics/coldplay/everyteardropisawaterfall.html\",\n",
        "        \"https://www.azlyrics.com/lyrics/coldplay/hymnfortheweekend.html\",\n",
        "        \"https://www.azlyrics.com/lyrics/coldplay/somethingjustlikethis.html\",\n",
        "        \"https://www.azlyrics.com/lyrics/coldplay/championof the world.html\"\n",
        "    ],\n",
        "    \"strokes\": [\n",
        "        \"https://www.azlyrics.com/lyrics/strokes/youonlyliveonce.html\",\n",
        "        \"https://www.azlyrics.com/lyrics/strokes/lastnite.html\",\n",
        "        \"https://www.azlyrics.com/lyrics/strokes/someday.html\",\n",
        "        \"https://www.azlyrics.com/lyrics/strokes/hardtoexplain.html\",\n",
        "        \"https://www.azlyrics.com/lyrics/strokes/reptilia.html\",\n",
        "        \"https://www.azlyrics.com/lyrics/strokes/1251.html\",\n",
        "        \"https://www.azlyrics.com/lyrics/strokes/undercontrol.html\",\n",
        "        \"https://www.azlyrics.com/lyrics/strokes/juicebox.html\",\n",
        "        \"https://www.azlyrics.com/lyrics/strokes/redlight.html\",\n",
        "        \"https://www.azlyrics.com/lyrics/strokes/thesametimereveryyear.html\",\n",
        "        \"https://www.azlyrics.com/lyrics/strokes/metabuilding.html\",\n",
        "        \"https://www.azlyrics.com/lyrics/strokes/ontheradio.html\",\n",
        "        \"https://www.azlyrics.com/lyrics/strokes/ode2.html\",\n",
        "        \"https://www.azlyrics.com/lyrics/strokes/theendhasnoguns.html\",\n",
        "        \"https://www.azlyrics.com/lyrics/strokes/eternityforaday.html\",\n",
        "        \"https://www.azlyrics.com/lyrics/strokes/threatofjoy.html\",\n",
        "        \"https://www.azlyrics.com/lyrics/strokes/dragqueen.html\",\n",
        "        \"https://www.azlyrics.com/lyrics/strokes/tryingyourluck.html\",\n",
        "        \"https://www.azlyrics.com/lyrics/strokes/visionsofdarkness.html\",\n",
        "        \"https://www.azlyrics.com/lyrics/strokes/askmeanything.html\"\n",
        "    ]\n",
        "}\n",
        "\n",
        "# we'll use this dictionary to hold both the artist name and the link on AZlyrics"
      ]
    },
    {
      "cell_type": "code",
      "source": [
        "def generate_filename_from_link(link):\n",
        "    if not link:\n",
        "        return None\n",
        "    name = link.replace(\"https\", \"\").replace(\"http\", \"\")\n",
        "    name = name.replace(\".html\", \"\").replace(\"/lyrics/\", \"\")\n",
        "    name = name.replace(\"://\", \"\").replace(\".\", \"_\").replace(\"/\", \"_\")\n",
        "    return name + \".txt\""
      ],
      "metadata": {
        "id": "b15kWM2unDOw"
      },
      "id": "b15kWM2unDOw",
      "execution_count": 126,
      "outputs": []
    },
    {
      "cell_type": "markdown",
      "id": "c236c99b",
      "metadata": {
        "id": "c236c99b"
      },
      "source": [
        "## A Note on Rate Limiting\n",
        "\n",
        "The lyrics site, www.azlyrics.com, does not have an explicit maximum on number of requests in any one time, but in our testing it appears that too many requests in too short a time will cause the site to stop returning lyrics pages. (Entertainingly, the page that gets returned seems to only have the song title to [a Tom Jones song](https://www.azlyrics.com/lyrics/tomjones/itsnotunusual.html).)\n",
        "\n",
        "Whenever you call `requests.get` to retrieve a page, put a `time.sleep(5 + 10*random.random())` on the next line. This will help you not to get blocked. If you _do_ get blocked, which you can identify if the returned pages are not correct, just request a lyrics page through your browser. You'll be asked to perform a CAPTCHA and then your requests should start working again.\n",
        "\n",
        "## Part 1: Finding Links to Songs Lyrics\n",
        "\n",
        "That general artist page has a list of all songs for that artist with links to the individual song pages.\n",
        "\n",
        "Q: Take a look at the `robots.txt` page on www.azlyrics.com. (You can read more about these pages [here](https://developers.google.com/search/docs/advanced/robots/intro).) Is the scraping we are about to do allowed or disallowed by this page? How do you know?\n",
        "\n",
        "A: <!-- Delete this comment and put your answer here. -->\n"
      ]
    },
    {
      "cell_type": "code",
      "execution_count": 127,
      "id": "ac9d31ec",
      "metadata": {
        "id": "ac9d31ec",
        "outputId": "7ec8e1a1-22b3-47b9-b2e7-a49ff4f17783",
        "colab": {
          "base_uri": "https://localhost:8080/",
          "height": 0
        }
      },
      "outputs": [
        {
          "output_type": "stream",
          "name": "stdout",
          "text": [
            "Using 20 direct links for coldplay\n",
            "Using 20 direct links for strokes\n"
          ]
        }
      ],
      "source": [
        "# Let's set up a dictionary of lists to hold our links\n",
        "lyrics_pages = defaultdict(list)\n",
        "\n",
        "for artist, links in artists.items():\n",
        "    print(f\"Using {len(links)} direct links for {artist}\")\n",
        "    lyrics_pages[artist] = links\n"
      ]
    },
    {
      "cell_type": "markdown",
      "id": "9c285ec1",
      "metadata": {
        "id": "9c285ec1"
      },
      "source": [
        "Let's make sure we have enough lyrics pages to scrape."
      ]
    },
    {
      "cell_type": "code",
      "execution_count": 128,
      "id": "ae4cda68",
      "metadata": {
        "id": "ae4cda68"
      },
      "outputs": [],
      "source": [
        "for artist, lp in lyrics_pages.items():\n",
        "    assert(len(set(lp)) >= 20)\n"
      ]
    },
    {
      "cell_type": "code",
      "execution_count": 129,
      "id": "edca10d6",
      "metadata": {
        "id": "edca10d6",
        "outputId": "1761a695-3ae3-4652-da64-dc6f3792b123",
        "colab": {
          "base_uri": "https://localhost:8080/",
          "height": 0
        }
      },
      "outputs": [
        {
          "output_type": "stream",
          "name": "stdout",
          "text": [
            "For coldplay we have 20.\n",
            "The full pull will take for this artist will take 0.06 hours.\n",
            "For strokes we have 20.\n",
            "The full pull will take for this artist will take 0.06 hours.\n"
          ]
        }
      ],
      "source": [
        "# Let's see how long it's going to take to pull these lyrics\n",
        "# if we're waiting `5 + 10*random.random()` seconds\n",
        "for artist, links in lyrics_pages.items() :\n",
        "    print(f\"For {artist} we have {len(links)}.\")\n",
        "    print(f\"The full pull will take for this artist will take {round(len(links)*10/3600,2)} hours.\")"
      ]
    },
    {
      "cell_type": "markdown",
      "id": "011be6c6",
      "metadata": {
        "id": "011be6c6"
      },
      "source": [
        "## Part 2: Pulling Lyrics\n",
        "\n",
        "Now that we have the links to our lyrics pages, let's go scrape them! Here are the steps for this part.\n",
        "\n",
        "1. Create an empty folder in our repo called \"lyrics\".\n",
        "1. Iterate over the artists in `lyrics_pages`.\n",
        "1. Create a subfolder in lyrics with the artist's name. For instance, if the artist was Cher you'd have `lyrics/cher/` in your repo.\n",
        "1. Iterate over the pages.\n",
        "1. Request the page and extract the lyrics from the returned HTML file using BeautifulSoup.\n",
        "1. Use the function below, `generate_filename_from_url`, to create a filename based on the lyrics page, then write the lyrics to a text file with that name.\n"
      ]
    },
    {
      "cell_type": "code",
      "execution_count": 130,
      "id": "67693711",
      "metadata": {
        "id": "67693711"
      },
      "outputs": [],
      "source": [
        "def generate_filename_from_link(link) :\n",
        "\n",
        "    if not link :\n",
        "        return None\n",
        "\n",
        "    # drop the http or https and the html\n",
        "    name = link.replace(\"https\",\"\").replace(\"http\",\"\")\n",
        "    name = link.replace(\".html\",\"\")\n",
        "\n",
        "    name = name.replace(\"/lyrics/\",\"\")\n",
        "\n",
        "    # Replace useless chareacters with UNDERSCORE\n",
        "    name = name.replace(\"://\",\"\").replace(\".\",\"_\").replace(\"/\",\"_\")\n",
        "\n",
        "    # tack on .txt\n",
        "    name = name + \".txt\"\n",
        "\n",
        "    return(name)\n"
      ]
    },
    {
      "cell_type": "code",
      "execution_count": 131,
      "id": "94a78c78",
      "metadata": {
        "id": "94a78c78"
      },
      "outputs": [],
      "source": [
        "# Make the lyrics folder here. If you'd like to practice your programming, add functionality\n",
        "# that checks to see if the folder exists. If it does, then use shutil.rmtree to remove it and create a new one.\n",
        "\n",
        "if os.path.isdir(\"lyrics\") :\n",
        "    shutil.rmtree(\"lyrics/\")\n",
        "\n",
        "os.mkdir(\"lyrics\")"
      ]
    },
    {
      "cell_type": "code",
      "execution_count": 132,
      "id": "d655b687",
      "metadata": {
        "id": "d655b687",
        "outputId": "2ebd9345-9647-4fbc-c129-948bd35fb8dc",
        "colab": {
          "base_uri": "https://localhost:8080/",
          "height": 0
        }
      },
      "outputs": [
        {
          "output_type": "stream",
          "name": "stdout",
          "text": [
            "Total run time was 0.13 hours.\n"
          ]
        }
      ],
      "source": [
        "start = time.time()\n",
        "\n",
        "for artist in lyrics_pages:\n",
        "    os.makedirs(f\"lyrics/{artist}\", exist_ok=True)\n",
        "    for link in lyrics_pages[artist]:\n",
        "        try:\n",
        "            r = requests.get(link)\n",
        "            time.sleep(5 + 10 * random.random())\n",
        "            soup = BeautifulSoup(r.text, \"html.parser\")\n",
        "            title = soup.find(\"title\").text\n",
        "            lyrics_divs = soup.find_all(\"div\", class_=None, id=None)\n",
        "            lyrics_text = \"\\n\".join([div.get_text(separator=\"\\n\") for div in lyrics_divs])\n",
        "            filename = generate_filename_from_link(link)\n",
        "            with open(f\"lyrics/{artist}/{filename}\", \"w\", encoding=\"utf-8\") as f:\n",
        "                f.write(title + \"\\n\\n\" + lyrics_text)\n",
        "        except:\n",
        "            print(f\"Error scraping: {link}\")\n",
        "\n",
        "print(f\"Total run time was {round((time.time() - start)/3600,2)} hours.\")\n"
      ]
    },
    {
      "cell_type": "code",
      "execution_count": 133,
      "id": "36c394f1",
      "metadata": {
        "id": "36c394f1",
        "outputId": "1aaf715f-cdb1-467d-da50-b4efcf79e9df",
        "colab": {
          "base_uri": "https://localhost:8080/",
          "height": 0
        }
      },
      "outputs": [
        {
          "output_type": "stream",
          "name": "stdout",
          "text": [
            "Total run time was 0.13 hours.\n"
          ]
        }
      ],
      "source": [
        "print(f\"Total run time was {round((time.time() - start)/3600,2)} hours.\")"
      ]
    },
    {
      "cell_type": "markdown",
      "id": "054cf14b",
      "metadata": {
        "id": "054cf14b"
      },
      "source": [
        "---\n",
        "\n",
        "# Evaluation\n",
        "\n",
        "This assignment asks you to pull data by scraping www.AZLyrics.com.  After you have finished the above sections , run all the cells in this notebook. Print this to PDF and submit it, per the instructions."
      ]
    },
    {
      "cell_type": "code",
      "execution_count": 134,
      "id": "217c2b0a",
      "metadata": {
        "id": "217c2b0a"
      },
      "outputs": [],
      "source": [
        "# Simple word extractor from Peter Norvig: https://norvig.com/spell-correct.html\n",
        "def words(text):\n",
        "    return re.findall(r'\\w+', text.lower())"
      ]
    },
    {
      "cell_type": "markdown",
      "id": "37778a1c",
      "metadata": {
        "id": "37778a1c"
      },
      "source": [
        "## Checking Lyrics\n",
        "\n",
        "The output from your lyrics scrape should be stored in files located in this path from the directory:\n",
        "`/lyrics/[Artist Name]/[filename from URL]`. This code summarizes the information at a high level to help the instructor evaluate your work."
      ]
    },
    {
      "cell_type": "code",
      "execution_count": 135,
      "id": "bccac29c",
      "metadata": {
        "id": "bccac29c",
        "outputId": "1bafecb1-bf18-4971-c387-32f762699f6c",
        "colab": {
          "base_uri": "https://localhost:8080/",
          "height": 0
        }
      },
      "outputs": [
        {
          "output_type": "stream",
          "name": "stdout",
          "text": [
            "For coldplay we have 20 files.\n",
            "For coldplay we have roughly 80 words, 4 are unique.\n",
            "For strokes we have 20 files.\n",
            "For strokes we have roughly 80 words, 4 are unique.\n"
          ]
        }
      ],
      "source": [
        "artist_folders = os.listdir(\"lyrics/\")\n",
        "artist_folders = [f for f in artist_folders if os.path.isdir(\"lyrics/\" + f)]\n",
        "\n",
        "for artist in artist_folders :\n",
        "    artist_files = os.listdir(\"lyrics/\" + artist)\n",
        "    artist_files = [f for f in artist_files if 'txt' in f or 'csv' in f or 'tsv' in f]\n",
        "\n",
        "    print(f\"For {artist} we have {len(artist_files)} files.\")\n",
        "\n",
        "    artist_words = []\n",
        "\n",
        "    for f_name in artist_files :\n",
        "        with open(\"lyrics/\" + artist + \"/\" + f_name) as infile :\n",
        "            artist_words.extend(words(infile.read()))\n",
        "\n",
        "\n",
        "    print(f\"For {artist} we have roughly {len(artist_words)} words, {len(set(artist_words))} are unique.\")\n"
      ]
    }
  ],
  "metadata": {
    "kernelspec": {
      "display_name": "Python 3 (ipykernel)",
      "language": "python",
      "name": "python3"
    },
    "language_info": {
      "codemirror_mode": {
        "name": "ipython",
        "version": 3
      },
      "file_extension": ".py",
      "mimetype": "text/x-python",
      "name": "python",
      "nbconvert_exporter": "python",
      "pygments_lexer": "ipython3",
      "version": "3.8.11"
    },
    "colab": {
      "provenance": []
    }
  },
  "nbformat": 4,
  "nbformat_minor": 5
}